{
 "cells": [
  {
   "cell_type": "markdown",
   "metadata": {},
   "source": [
    "# SPARK SQL (CLOUDS Fall 2018)"
   ]
  },
  {
   "cell_type": "markdown",
   "metadata": {},
   "source": [
    "In this notebook, we will learn how to use the DataFrame API and SparkSQL to perform simple data analytics tasks.\n",
    "\n",
    "# Goals\n",
    "The main goals of this notebook are the following:\n",
    "1. Understand the advantages and disadvantages of using DataFrame over RDD\n",
    "2. Analyze the airline data with the DataFrame API and SparkSQL\n",
    "\n",
    "# Steps\n",
    "\n",
    "- First, in section 1, we will go through a short introduction about the DataFrame API with a small example to see how can we use it and how it compares to the low-level RDD abstraction.\n",
    "- In section 2, we delve into the details of the use case of this notebook including: providing the context, introducing the data\n",
    "- In section 3, we perform data exploration and analysis"
   ]
  },
  {
   "cell_type": "markdown",
   "metadata": {},
   "source": [
    "# 1. RDD and DataFrame APIs"
   ]
  },
  {
   "cell_type": "markdown",
   "metadata": {},
   "source": [
    "In our previous notebooks, we have worked with RDDs (Resilient Distributed Dataset), the basic abstraction in Spark. The main reason is due to the task at hand: we have been invovled in the design of distributed algorithms.\n",
    "\n",
    "In this laboratory session, we study (or revisit) the DataFrame API - an immutable distributed collection of data.\n",
    "DataFrames allow developers to impose a **structure** on a distributed collection of data, allowing higher-level abstraction; in addition, DataFrames provide a domain specific language (DSL) API to manipulate distributed, structured data. Ultimately, the goal is to make Spark accessible to a wider audience, beyond researchers and specialized data engineers.\n",
    "\n",
    "Let's take a small example to see the difference between RDDs and DataFrames. The two cells below contain short code snippets that perform the same task: count the frequency of words in a document, then sort the result in descending order. The first snippet is the same you have been working on in the very [first notebook](https://github.com/EURECOM-CLOUDS-COURSE/Introduction/blob/master/introduction-lab.ipynb) of the CLOUDS course.\n",
    "The second code snippet uses the DataFrame API."
   ]
  },
  {
   "cell_type": "markdown",
   "metadata": {},
   "source": [
    "<div class=\"alert alert-block alert-info\">\n",
    "\n",
    "<strong>Question 1.</strong> \n",
    "\n",
    "Run both approaches (RDD and DataFrame) detailed below, compare their runtime, and discuss. Is the DataFrame API approach faster? Can you explain why?\n",
    "\n",
    "</div>"
   ]
  },
  {
   "cell_type": "code",
   "execution_count": 5,
   "metadata": {},
   "outputs": [],
   "source": [
    "import time\n",
    "from pyspark.sql import SQLContext\n",
    "from pyspark.sql.types import *\n",
    "from pyspark.sql import SQLContext\n",
    "from pyspark.sql.types import *\n",
    "from pyspark.sql.functions import explode, split, desc, col, udf, round\n",
    "%matplotlib inline\n",
    "import matplotlib.pyplot as plt\n",
    "import matplotlib.colors as mcolors\n",
    "import pandas as pd\n",
    "import numpy as np\n",
    "import pyspark.sql.functions as func\n",
    "import matplotlib.patches as mpatches\n",
    "import seaborn as sns\n",
    "\n",
    "sqlContext = SQLContext(sc)"
   ]
  },
  {
   "cell_type": "code",
   "execution_count": 1,
   "metadata": {
    "collapsed": true
   },
   "outputs": [
    {
     "name": "stdout",
     "output_type": "stream",
     "text": [
      "Runtime: 177.63 sec\n",
      "[(29556020, 'the'), (18043957, 'of'), (14914748, 'and'), (12892052, 'to'), (9779124, 'a')]\n"
     ]
    }
   ],
   "source": [
    "import time\n",
    "time_start = time.time()\n",
    "words = (\n",
    "            # read the text file\n",
    "            sc.textFile(\"/datasets/gutenberg/gutenberg_small.txt\").repartition(16)\n",
    "            \n",
    "            # construct words from lines\n",
    "            .flatMap(lambda line: line.split())\n",
    "            \n",
    "            # map each word to (word, 1)\n",
    "            .map(lambda x: (x, 1))\n",
    "    \n",
    "            # reduce by key: accumulate sum the freq of the same word\n",
    "            .reduceByKey(lambda freq1, freq2: freq1 + freq2)\n",
    "            \n",
    "            # swap (word, freq) to (freq, word)\n",
    "            .map(lambda x: (x[1], x[0]))\n",
    "    \n",
    "            # sort result by key DESC\n",
    "            .sortByKey(False)\n",
    "         )\n",
    "print(\"Runtime: %.2f sec\" % (time.time() - time_start))\n",
    "print(words.take(5))"
   ]
  },
  {
   "cell_type": "code",
   "execution_count": 2,
   "metadata": {
    "collapsed": true
   },
   "outputs": [
    {
     "name": "stdout",
     "output_type": "stream",
     "text": [
      "+----+--------+\n",
      "|word|   count|\n",
      "+----+--------+\n",
      "| the|29556020|\n",
      "|  of|18043957|\n",
      "|    |16611988|\n",
      "| and|14914748|\n",
      "|  to|12892052|\n",
      "+----+--------+\n",
      "only showing top 5 rows\n",
      "\n",
      "Runtime: 113.88 sec\n"
     ]
    }
   ],
   "source": [
    "from pyspark.sql.types import *\n",
    "from pyspark.sql import SQLContext\n",
    "from pyspark.sql.functions import explode, split, desc\n",
    "sqlContext = SQLContext(sc)\n",
    "time_start = time.time()\n",
    "\n",
    "# read the text file\n",
    "df = sqlContext.read.text(\"/datasets/gutenberg/gutenberg_small.txt\")\n",
    "\n",
    "# show 3 samples\n",
    "# df.show(3)\n",
    "\n",
    "result = (\n",
    "    # split into words\n",
    "    df.select(explode(split(df.value, \"\\s+|\\t+\")).alias('word'))\n",
    "    \n",
    "    # group by each word\n",
    "    .groupBy(['word'])\n",
    "    \n",
    "    # count the freq\n",
    "    .count()\n",
    "    \n",
    "    # sort the result\n",
    "    .orderBy(desc(\"count\"))\n",
    ")\n",
    "\n",
    "result.show(5)\n",
    "print(\"Runtime: %.2f sec\" % (time.time() - time_start))"
   ]
  },
  {
   "cell_type": "markdown",
   "metadata": {},
   "source": [
    "The runtime of the RDD approach is 178 sec, compared to the runtime of the DataFrame, with amount to 114 sec.\n",
    "We can conclude that the DataFrame API approach is relatively faster than the RDD approach. This is due to the use of a defined schema with named colums and specific relational operators."
   ]
  },
  {
   "cell_type": "markdown",
   "metadata": {},
   "source": [
    "# 2. Analysis of flight data using the DataFrame API and SparkSQL\n",
    "\n",
    "## Use case\n",
    "\n",
    "In this notebook, we play the role of a data scientist working in the travel industry, specifically on air transportation of passengers. We want to explore the data collected by the Department of Transportation (DoT) to understand passengers' behavior, as well as the properties of all flights, across several airline companies.\n",
    "\n",
    "The dataset provided by the DoT has 29 features, that can be either categorical or numerical. For example, the ```src_airport``` (source airport) is categorical: there exist no comparison operator between airport names. We can not say \"SGN is bigger than NCE\". The ```departure_time``` feature is numerical, for which a comparison operator exists. For instance, \"flight departing before 6PM\" can be express by \"departure_time < 1800\".\n",
    "\n",
    "In this use case, most features are numerical, except carrier, flight_number, cancelled, cancelation_code and diverted. \n",
    "The data contains a header, that is useless when analyzing the data: it serves the purpose of an \"embedded schema\", to help data scientist figure out what information is available. Note that there are some features with missing values in some lines of the dataset. The missing values are marked by \"NA\". These values can cause problems when processing the data and can lead to unexpected results. Therefore, we need to remove the header and replace all \"NA\" values by empty values, such as they can be interpreted as null values.\n",
    "\n",
    "## DataFrame\n",
    "As we have seen already, there are multiple ways to manipulate data:\n",
    "\n",
    "- Using the RDD abstraction\n",
    "\n",
    "- Using the DataFrame abstraction. \n",
    "\n",
    "A DataFrame is a distributed collection of data organized into named columns. It is based on the data frame concept in R language or in Pandas for Python. In some sense, it is similar to a table in a relational database: each item is a list of values (the columns). Also, the value in each row of each column can be accessed by the column's name.\n",
    "\n",
    "To use DataFrames, the data should be clean (no invalid values). That means we cannot create DataFrame directly from the \"RAW\" data. Instead, we will first create an RDD from RAW data, produce a new, clean RDD, then transform it to a DataFrame and work on it. The RDD `cleaned_data` is an `RDD[String]`. We need to transform it to `RDD[(TypeOfColumn1, TypeOfColumn2, ..., TypeOfColumn29)]` then call a function to create a DataFrame from the new RDD. Please note that, package `com.databricks.spark.csv` can really help us to load the data efficiently without concerns about parsing, conversions, etc... However, the CSV package can have some problems when loading not well-formatted data or the data that has many kinds of missing values. The guidelines defined this notebook are a general way to help you work with any data.\n",
    "\n",
    "\n",
    "DataFrames can be constructed from a wide array of sources such as: structured data files, tables in Hive, external databases, or existing RDDs.\n",
    "\n",
    "During the labs in this course, we will mainly work with CSV data files. So, in the next sections, we only focus on constructing dataframes from structured data files directly and from existing RDD.\n",
    "\n",
    "### Constructing a DataFrame directly from structured data file\n",
    "\n",
    "To construct DataFrame from a structured file directly, the file type must be supported. Currently, Spark supports csv, json, avro and many more. Among these types, the csv type is one of the most popular in data analytics. A DataFrame is constructed from csv files by using the package spark-csv from Databricks.\n"
   ]
  },
  {
   "cell_type": "code",
   "execution_count": null,
   "metadata": {
    "collapsed": true
   },
   "outputs": [],
   "source": [
    "from pyspark.sql import SQLContext\n",
    "from pyspark.sql.types import *\n",
    "\n",
    "sqlContext = SQLContext(sc)\n",
    "\n",
    "df = sqlContext.read.load('/datasets/airline/1994.csv', \n",
    "    format='com.databricks.spark.csv', \n",
    "    header='true', \n",
    "    inferSchema='true',\n",
    "    nullValue='NA'\n",
    ")"
   ]
  },
  {
   "cell_type": "markdown",
   "metadata": {},
   "source": [
    "Using the function load parametrized with `com.databricks.spark.csv`, we ask the SqlContext to use the parser from the DataBricks package. Additionally, we can specify whether the file has a header, or ask the parser to guess the data type of columns automatically. The parsed data types is viewed using the function printSchema."
   ]
  },
  {
   "cell_type": "code",
   "execution_count": 4,
   "metadata": {
    "collapsed": true
   },
   "outputs": [
    {
     "name": "stdout",
     "output_type": "stream",
     "text": [
      "root\n",
      " |-- Year: integer (nullable = true)\n",
      " |-- Month: integer (nullable = true)\n",
      " |-- DayofMonth: integer (nullable = true)\n",
      " |-- DayOfWeek: integer (nullable = true)\n",
      " |-- DepTime: integer (nullable = true)\n",
      " |-- CRSDepTime: integer (nullable = true)\n",
      " |-- ArrTime: integer (nullable = true)\n",
      " |-- CRSArrTime: integer (nullable = true)\n",
      " |-- UniqueCarrier: string (nullable = true)\n",
      " |-- FlightNum: integer (nullable = true)\n",
      " |-- TailNum: string (nullable = true)\n",
      " |-- ActualElapsedTime: integer (nullable = true)\n",
      " |-- CRSElapsedTime: integer (nullable = true)\n",
      " |-- AirTime: string (nullable = true)\n",
      " |-- ArrDelay: integer (nullable = true)\n",
      " |-- DepDelay: integer (nullable = true)\n",
      " |-- Origin: string (nullable = true)\n",
      " |-- Dest: string (nullable = true)\n",
      " |-- Distance: integer (nullable = true)\n",
      " |-- TaxiIn: string (nullable = true)\n",
      " |-- TaxiOut: string (nullable = true)\n",
      " |-- Cancelled: integer (nullable = true)\n",
      " |-- CancellationCode: string (nullable = true)\n",
      " |-- Diverted: integer (nullable = true)\n",
      " |-- CarrierDelay: string (nullable = true)\n",
      " |-- WeatherDelay: string (nullable = true)\n",
      " |-- NASDelay: string (nullable = true)\n",
      " |-- SecurityDelay: string (nullable = true)\n",
      " |-- LateAircraftDelay: string (nullable = true)\n",
      "\n"
     ]
    }
   ],
   "source": [
    "df.printSchema()"
   ]
  },
  {
   "cell_type": "markdown",
   "metadata": {},
   "source": [
    "As you can see, the automatically inferred data types are **not** as expected. For example, we expect that `CRSDepTime` to be of interger type. The type and the name of each column can be modified using function ```withColumn``` and ```withColumnRename``` respectively. Additionally, we can also compute and print basic descriptive statistics of numerical columns via the function ```describe``` (similar to Pandas)."
   ]
  },
  {
   "cell_type": "code",
   "execution_count": 5,
   "metadata": {
    "collapsed": true
   },
   "outputs": [
    {
     "name": "stdout",
     "output_type": "stream",
     "text": [
      "root\n",
      " |-- Year: integer (nullable = true)\n",
      " |-- Month: integer (nullable = true)\n",
      " |-- DayofMonth: integer (nullable = true)\n",
      " |-- DayOfWeek: integer (nullable = true)\n",
      " |-- DepTime: integer (nullable = true)\n",
      " |-- scheduled_departure_time: integer (nullable = true)\n",
      " |-- ArrTime: integer (nullable = true)\n",
      " |-- CRSArrTime: integer (nullable = true)\n",
      " |-- UniqueCarrier: string (nullable = true)\n",
      " |-- FlightNum: integer (nullable = true)\n",
      " |-- TailNum: string (nullable = true)\n",
      " |-- ActualElapsedTime: integer (nullable = true)\n",
      " |-- CRSElapsedTime: integer (nullable = true)\n",
      " |-- AirTime: string (nullable = true)\n",
      " |-- ArrDelay: integer (nullable = true)\n",
      " |-- DepDelay: integer (nullable = true)\n",
      " |-- Origin: string (nullable = true)\n",
      " |-- Dest: string (nullable = true)\n",
      " |-- Distance: integer (nullable = true)\n",
      " |-- TaxiIn: string (nullable = true)\n",
      " |-- TaxiOut: string (nullable = true)\n",
      " |-- Cancelled: integer (nullable = true)\n",
      " |-- CancellationCode: string (nullable = true)\n",
      " |-- Diverted: integer (nullable = true)\n",
      " |-- CarrierDelay: string (nullable = true)\n",
      " |-- WeatherDelay: string (nullable = true)\n",
      " |-- NASDelay: string (nullable = true)\n",
      " |-- SecurityDelay: string (nullable = true)\n",
      " |-- LateAircraftDelay: string (nullable = true)\n",
      "\n",
      "+-------+-------+-----------------+------------------+------------------+------------------+------------------------+------------------+-----------------+-------------+-----------------+-------+------------------+------------------+-------+-----------------+-----------------+-------+-------+-----------------+------+-------+--------------------+----------------+--------------------+------------+------------+--------+-------------+-----------------+\n",
      "|summary|   Year|            Month|        DayofMonth|         DayOfWeek|           DepTime|scheduled_departure_time|           ArrTime|       CRSArrTime|UniqueCarrier|        FlightNum|TailNum| ActualElapsedTime|    CRSElapsedTime|AirTime|         ArrDelay|         DepDelay| Origin|   Dest|         Distance|TaxiIn|TaxiOut|           Cancelled|CancellationCode|            Diverted|CarrierDelay|WeatherDelay|NASDelay|SecurityDelay|LateAircraftDelay|\n",
      "+-------+-------+-----------------+------------------+------------------+------------------+------------------------+------------------+-----------------+-------------+-----------------+-------+------------------+------------------+-------+-----------------+-----------------+-------+-------+-----------------+------+-------+--------------------+----------------+--------------------+------------+------------+--------+-------------+-----------------+\n",
      "|  count|5180048|          5180048|           5180048|           5180048|           5113308|                 5180048|           5101202|          5180048|      5180048|          5180048|      0|           5101202|           5180048|      0|          5101202|          5113308|5180048|5180048|          5157099|     0|      0|             5180048|               0|             5180048|           0|           0|       0|            0|                0|\n",
      "|   mean| 1994.0|6.579943853802127|15.723382486031017|3.9516016067804776| 1345.266130849149|      1338.6794068317513|1494.4365151585841|1495.874874904634|         null|920.2637743897354|   null|114.00258860558746|114.82526995888841|   null|5.662489742613603| 6.65992152242736|   null|   null|670.7402911985982|  null|   null|0.012884050495284986|            null|0.002337043981059635|        null|        null|    null|         null|             null|\n",
      "| stddev|    0.0|3.436720373974687| 8.788272360339171|1.9902384397189956|470.22426611386055|       463.6175011477209|483.98495590427785|472.6701494862189|         null| 608.134294392797|   null| 64.88861058427636| 64.20406191593854|   null|23.61815604081699|22.22629770848844|   null|   null|522.2696688890848|  null|   null| 0.11277435077764922|            null| 0.04828646452784276|        null|        null|    null|         null|             null|\n",
      "|    min|   1994|                1|                 1|                 1|                 1|                       1|                 1|                1|           AA|                1|   null|               -40|                -5|   null|             -115|             -109|    ABE|    ABE|               11|  null|   null|                   0|            null|                   0|        null|        null|    null|         null|             null|\n",
      "|    max|   1994|               12|                31|                 7|              2400|                    2400|              2400|             2400|           WN|             3599|   null|               740|               578|   null|             1313|             1439|    YAK|    YAK|             4502|  null|   null|                   1|            null|                   1|        null|        null|    null|         null|             null|\n",
      "+-------+-------+-----------------+------------------+------------------+------------------+------------------------+------------------+-----------------+-------------+-----------------+-------+------------------+------------------+-------+-----------------+-----------------+-------+-------+-----------------+------+-------+--------------------+----------------+--------------------+------------+------------+--------+-------------+-----------------+\n",
      "\n"
     ]
    }
   ],
   "source": [
    "df = (df\n",
    "          # change type of column CRSDepTime by casting its values to interger type\n",
    "          .withColumn('CRSDepTime', df.CRSDepTime.cast('int'))\n",
    "\n",
    "          # rename the column\n",
    "          .withColumnRenamed('CRSDepTime', 'scheduled_departure_time')\n",
    "    )\n",
    "\n",
    "# print schema of the current data\n",
    "df.printSchema()\n",
    "\n",
    "# run jobs to calculate basic statistic information and show it\n",
    "df.describe().show()"
   ]
  },
  {
   "cell_type": "markdown",
   "metadata": {},
   "source": [
    "### Constructing a DataFrame from an existing RDD\n",
    "\n",
    "Another way to construct a DataFrame is using data from an existing RDD. The main advantage of this approach is that it does not need a third party library. However, with this method, we have to remove the header ourself and provide a clear schema.\n",
    "\n"
   ]
  },
  {
   "cell_type": "code",
   "execution_count": 6,
   "metadata": {
    "collapsed": true
   },
   "outputs": [],
   "source": [
    "from pyspark.sql import SQLContext\n",
    "from pyspark.sql.types import *\n",
    "from pyspark.sql.functions import explode, split, desc, col, udf, round\n",
    "%matplotlib inline\n",
    "import matplotlib.pyplot as plt\n",
    "import matplotlib.colors as mcolors\n",
    "import pandas as pd\n",
    "import numpy as np\n",
    "import pyspark.sql.functions as func\n",
    "import matplotlib.patches as mpatches\n",
    "import seaborn as sns\n",
    "\n",
    "sqlContext = SQLContext(sc)\n",
    "\n",
    "data = sc.textFile('/datasets/airline/1994.csv')\n",
    "\n",
    "# extract the header\n",
    "header = data.first()\n",
    "\n",
    "# replace invalid data with NULL and remove header\n",
    "cleaned_data = (\n",
    "        data\n",
    "    \n",
    "        # filter out the header\n",
    "        .filter(lambda line: line != header)\n",
    "    \n",
    "         # replace the 'missing data' by empty value\n",
    "        .map(lambda line: ','.join(list(map(lambda x: x if x != 'NA' else '',line.split(',')))))\n",
    "    )\n",
    "\n",
    "airline_data_schema = StructType([ \\\n",
    "    #StructField( name, dataType, nullable)\n",
    "    StructField(\"year\",                     IntegerType(), True), \\\n",
    "    StructField(\"month\",                    IntegerType(), True), \\\n",
    "    StructField(\"day_of_month\",             IntegerType(), True), \\\n",
    "    StructField(\"day_of_week\",              IntegerType(), True), \\\n",
    "    StructField(\"departure_time\",           IntegerType(), True), \\\n",
    "    StructField(\"scheduled_departure_time\", IntegerType(), True), \\\n",
    "    StructField(\"arrival_time\",             IntegerType(), True), \\\n",
    "    StructField(\"scheduled_arrival_time\",   IntegerType(), True), \\\n",
    "    StructField(\"carrier\",                  StringType(),  True), \\\n",
    "    StructField(\"flight_number\",            StringType(),  True), \\\n",
    "    StructField(\"tail_number\",              StringType(),  True), \\\n",
    "    StructField(\"actual_elapsed_time\",      IntegerType(), True), \\\n",
    "    StructField(\"scheduled_elapsed_time\",   IntegerType(), True), \\\n",
    "    StructField(\"air_time\",                 IntegerType(), True), \\\n",
    "    StructField(\"arrival_delay\",            IntegerType(), True), \\\n",
    "    StructField(\"departure_delay\",          IntegerType(), True), \\\n",
    "    StructField(\"src_airport\",              StringType(),  True), \\\n",
    "    StructField(\"dest_airport\",             StringType(),  True), \\\n",
    "    StructField(\"distance\",                 IntegerType(), True), \\\n",
    "    StructField(\"taxi_in_time\",             IntegerType(), True), \\\n",
    "    StructField(\"taxi_out_time\",            IntegerType(), True), \\\n",
    "    StructField(\"cancelled\",                StringType(),  True), \\\n",
    "    StructField(\"cancellation_code\",        StringType(),  True), \\\n",
    "    StructField(\"diverted\",                 StringType(),  True), \\\n",
    "    StructField(\"carrier_delay\",            IntegerType(), True), \\\n",
    "    StructField(\"weather_delay\",            IntegerType(), True), \\\n",
    "    StructField(\"nas_delay\",                IntegerType(), True), \\\n",
    "    StructField(\"security_delay\",           IntegerType(), True), \\\n",
    "    StructField(\"late_aircraft_delay\",      IntegerType(), True)\\\n",
    "])"
   ]
  },
  {
   "cell_type": "code",
   "execution_count": 7,
   "metadata": {
    "collapsed": true
   },
   "outputs": [],
   "source": [
    "# convert each line into a tuple of features (columns) with the corresponding data type\n",
    "cleaned_data_to_columns = (\n",
    "    cleaned_data.map(lambda l: l.split(\",\"))\n",
    "    .map(lambda cols: \n",
    "         (\n",
    "            int(cols[0])  if cols[ 0] else None,\n",
    "            int(cols[1])  if cols[ 1] else None,\n",
    "            int(cols[2])  if cols[ 2] else None,\n",
    "            int(cols[3])  if cols[ 3] else None,\n",
    "            int(cols[4])  if cols[ 4] else None,\n",
    "            int(cols[5])  if cols[ 5] else None,\n",
    "            int(cols[6])  if cols[ 6] else None,\n",
    "            int(cols[7])  if cols[ 7] else None,\n",
    "            cols[8]       if cols[ 8] else None,\n",
    "            cols[9]       if cols[ 9] else None,\n",
    "            cols[10]      if cols[10] else None,\n",
    "            int(cols[11]) if cols[11] else None,\n",
    "            int(cols[12]) if cols[12] else None,\n",
    "            int(cols[13]) if cols[13] else None,\n",
    "            int(cols[14]) if cols[14] else None,\n",
    "            int(cols[15]) if cols[15] else None,\n",
    "            cols[16]      if cols[16] else None,\n",
    "            cols[17]      if cols[17] else None,\n",
    "            int(cols[18]) if cols[18] else None,\n",
    "            int(cols[19]) if cols[19] else None,\n",
    "            int(cols[20]) if cols[20] else None,\n",
    "            cols[21]      if cols[21] else None,\n",
    "            cols[22]      if cols[22] else None,\n",
    "            cols[23]      if cols[23] else None,\n",
    "            int(cols[24]) if cols[24] else None,\n",
    "            int(cols[25]) if cols[25] else None,\n",
    "            int(cols[26]) if cols[26] else None,\n",
    "            int(cols[27]) if cols[27] else None,\n",
    "            int(cols[28]) if cols[28] else None\n",
    "         ))             \n",
    ")\n",
    "    \n",
    "# create dataframe\n",
    "df = sqlContext.createDataFrame(cleaned_data_to_columns, airline_data_schema)\\\n",
    "    .select(['year', 'month', 'day_of_month', 'day_of_week',\n",
    "            'scheduled_departure_time','scheduled_arrival_time',\n",
    "            'arrival_delay', 'distance', \n",
    "            'src_airport', 'dest_airport', 'carrier'])\\\n",
    "    .cache()\n",
    "df=df.withColumn(\"Hour\",pyspark.sql.functions.floor(df['scheduled_departure_time']/100)).cache()"
   ]
  },
  {
   "cell_type": "markdown",
   "metadata": {},
   "source": [
    "### Examples\n",
    "\n",
    "Using the contructed DataFrame, we can answer some simple questions:\n",
    "\n",
    "<ul>\n",
    "<li>How many night flights do we have in our data?</li>\n",
    "<li>How many night flights per unique carrier?</li>\n",
    "</ul>\n",
    "\n",
    "<strong>NOTE:</strong> We define \"night\" to start at 6pm."
   ]
  },
  {
   "cell_type": "code",
   "execution_count": 11,
   "metadata": {
    "collapsed": true
   },
   "outputs": [
    {
     "data": {
      "text/plain": [
       "1078203"
      ]
     },
     "execution_count": 11,
     "metadata": {},
     "output_type": "execute_result"
    }
   ],
   "source": [
    "df[df.scheduled_departure_time > 1800].count()"
   ]
  },
  {
   "cell_type": "code",
   "execution_count": 12,
   "metadata": {
    "collapsed": true
   },
   "outputs": [
    {
     "data": {
      "text/plain": [
       "[Row(carrier='DL', count=208224),\n",
       " Row(carrier='US', count=170397),\n",
       " Row(carrier='AA', count=142832),\n",
       " Row(carrier='WN', count=124024),\n",
       " Row(carrier='UA', count=113640),\n",
       " Row(carrier='NW', count=100453),\n",
       " Row(carrier='CO', count=94501),\n",
       " Row(carrier='TW', count=54771),\n",
       " Row(carrier='HP', count=44351),\n",
       " Row(carrier='AS', count=25010)]"
      ]
     },
     "execution_count": 12,
     "metadata": {},
     "output_type": "execute_result"
    }
   ],
   "source": [
    "df[df.scheduled_departure_time > 1800].groupBy(df.carrier).count().orderBy('count', ascending=0).collect()"
   ]
  },
  {
   "cell_type": "markdown",
   "metadata": {},
   "source": [
    "# 3. Data exploration\n",
    "Next, we will go over a series of simple queries on our data, to perform exploration and compute statistics using the DataFrame API and SparkSQL. These queries directly map to the questions you need to answer. \n",
    "\n",
    "**NOTE:** finding the right question to ask is difficult! Don't be afraid to complement the questions below, with your own questions that, in your opinion, are valuable ways to inspect data. This can give you extra points!\n",
    "\n",
    "- Basic queries:\n",
    "  - How many unique origin airports?\n",
    "  - How many unique destination airports?\n",
    "  - How many carriers?\n",
    "  - How many flights that have a scheduled departure time later than 18h00?\n",
    "\n",
    "\n",
    "- Statistics on flight volume: this kind of statistics are helpful to reason about delays. Indeed, it is plausible to assume that \"*the more flights in an airport, the higher the probability of delay*\".\n",
    "  - How many flights in each month of the year?\n",
    "  - Is there any relationship between the number of flights and the days of week?\n",
    "  - How many flights in different days of months and in different hours of days?\n",
    "  - Which are the top 20 busiest airports (this depends on inbound and outbound traffic)?\n",
    "  - Which are the top 20 busiest carriers?\n",
    "\n",
    "\n",
    "- Statistics on the fraction of delayed flights\n",
    "  - What is the percentage of delayed flights (over total flights) for different hours of the day?\n",
    "  - Which hours of the day are characterized by the longest flight delay?\n",
    "  - What are the fluctuation of the percentage of delayed flights over different time granularities?\n",
    "  - What is the percentage of delayed flights which depart from one of the top 20 busiest airports?\n",
    "  - What is the percentage of delayed flights which belong to one of the top 20 busiest carriers?"
   ]
  },
  {
   "cell_type": "markdown",
   "metadata": {},
   "source": [
    "## Question 2: Basic queries\n",
    "\n",
    "### Question 2.1\n",
    "<div class=\"alert alert-info\">\n",
    "\n",
    "How many unique origin airports? How many unique destination airports? Discuss the results, indicating any discrepancies or strange facts about the data.\n",
    "\n",
    "</div>"
   ]
  },
  {
   "cell_type": "code",
   "execution_count": 13,
   "metadata": {},
   "outputs": [
    {
     "name": "stdout",
     "output_type": "stream",
     "text": [
      "Number of distinct source airports 224\n",
      "Number of distinct destination airports 225\n"
     ]
    }
   ],
   "source": [
    "print('Number of distinct source airports',df.select(\"src_airport\").distinct().count())\n",
    "print('Number of distinct destination airports',df.select(\"dest_airport\").distinct().count())"
   ]
  },
  {
   "cell_type": "markdown",
   "metadata": {},
   "source": [
    "In the database, there seem to be 225 airports, including one airport from which no plane go. Or there are 224 airports and a typo error on one name."
   ]
  },
  {
   "cell_type": "markdown",
   "metadata": {},
   "source": [
    "### Question 2.2\n",
    "\n",
    "<div class=\"alert alert-info\">\n",
    "How many unique carriers are present in the data?\n",
    "</div>"
   ]
  },
  {
   "cell_type": "code",
   "execution_count": 14,
   "metadata": {},
   "outputs": [
    {
     "name": "stdout",
     "output_type": "stream",
     "text": [
      "Number of unique carriers 10\n"
     ]
    }
   ],
   "source": [
    "print('Number of unique carriers',df.select(\"carrier\").distinct().count())"
   ]
  },
  {
   "cell_type": "markdown",
   "metadata": {},
   "source": [
    "### Question 2.3\n",
    "\n",
    "<div class=\"alert alert-info\">\n",
    "<ul>\n",
    "<li>How many night flights (that is, flights departing later than 6pm or earlier than 6am)?</li>\n",
    "<li>What is the percentage of night flights over the total volume of flights</li>\n",
    "</ul>\n",
    "\n",
    "<br>\n",
    "<br>\n",
    "<strong>NOTE:</strong> Here we're using a more refined definition of what is a night flight, than in our earlier examples.\n",
    "\n",
    "</div>"
   ]
  },
  {
   "cell_type": "code",
   "execution_count": 15,
   "metadata": {},
   "outputs": [
    {
     "name": "stdout",
     "output_type": "stream",
     "text": [
      "Number of night flights  1121918\n",
      "percentage of night flights  21.658447952605844\n"
     ]
    }
   ],
   "source": [
    "night=df[df.scheduled_departure_time > 1800].count() + df[df.scheduled_departure_time < 600].count()\n",
    "print('Number of night flights ',night)\n",
    "print('percentage of night flights ', (night/df.count())*100)"
   ]
  },
  {
   "cell_type": "markdown",
   "metadata": {},
   "source": [
    "## Question 3: Flight volume statistics\n",
    "\n",
    "### Question 3.1: \n",
    "\n",
    "<div class=\"alert alert-info\">\n",
    "How many flights in each month of the year? Plot the changes over months by a line chart and comment the figure.\n",
    "\n",
    "<br>\n",
    "From the result, we can learn the dynamics of flight volume over months. For example, if we only consider flights in 1994 (to start, it's always better to focus on smaller amount of data), we can discuss about which months are most likely to have flights experiencing delays.\n",
    "</div>\n"
   ]
  },
  {
   "cell_type": "code",
   "execution_count": 16,
   "metadata": {},
   "outputs": [
    {
     "data": {
      "text/plain": [
       "<matplotlib.axes._subplots.AxesSubplot at 0x7f9b0928c668>"
      ]
     },
     "execution_count": 16,
     "metadata": {},
     "output_type": "execute_result"
    },
    {
     "data": {
      "image/png": "[encoded data removed]",
      "text/plain": [
       "<Figure size 432x288 with 1 Axes>"
      ]
     },
     "metadata": {},
     "output_type": "display_data"
    }
   ],
   "source": [
    "L=df.groupBy(df.month).count().orderBy('month', ascending=1).toPandas()\n",
    "import matplotlib.pyplot as plt\n",
    "sns.lineplot(L['month'].values,L['count'].values)"
   ]
  },
  {
   "cell_type": "markdown",
   "metadata": {},
   "source": [
    "There are less flights on February than during the other months. It is also noticeable that during summer months, there is a relatively high number of flights."
   ]
  },
  {
   "cell_type": "code",
   "execution_count": 17,
   "metadata": {},
   "outputs": [
    {
     "data": {
      "text/plain": [
       "<matplotlib.axes._subplots.AxesSubplot at 0x7f9afe633b38>"
      ]
     },
     "execution_count": 17,
     "metadata": {},
     "output_type": "execute_result"
    },
    {
     "data": {
      "image/png": "[encoded data removed]",
      "text/plain": [
       "<Figure size 432x288 with 1 Axes>"
      ]
     },
     "metadata": {},
     "output_type": "display_data"
    }
   ],
   "source": [
    "L=df.groupBy(df.month).agg({\"arrival_delay\": \"avg\"}).toPandas()\n",
    "sns.barplot(L['month'].values,L['avg(arrival_delay)'].values)"
   ]
  },
  {
   "cell_type": "markdown",
   "metadata": {},
   "source": [
    "### Question 3.2: \n",
    "\n",
    "<div class=\"alert alert-info\">\n",
    "Is there any relationship between the number of flights and the days of the week?  \n",
    "\n",
    "Plot a bar chart and interpret the figure.\n",
    "\n",
    "<br>\n",
    "<br>\n",
    "<strong>NOTE:</strong> You should study both global aggregates (irrespectively of the month of the year), and monthly aggregates (day statistics, for each different month of the year).\n",
    "\n",
    "<br>\n",
    "<br>\n",
    "By answering this question, we could learn about the importance of the weekend/weekday feature for our predictive task.\n",
    "</div>"
   ]
  },
  {
   "cell_type": "code",
   "execution_count": 18,
   "metadata": {},
   "outputs": [
    {
     "data": {
      "text/plain": [
       "<matplotlib.axes._subplots.AxesSubplot at 0x7f9afe567cf8>"
      ]
     },
     "execution_count": 18,
     "metadata": {},
     "output_type": "execute_result"
    },
    {
     "data": {
      "image/png": "[encoded data removed]",
      "text/plain": [
       "<Figure size 432x288 with 1 Axes>"
      ]
     },
     "metadata": {},
     "output_type": "display_data"
    }
   ],
   "source": [
    "L=df.groupBy(df.day_of_week).count().orderBy('day_of_week', ascending=1).toPandas()\n",
    "sns.barplot(L['day_of_week'].values,L['count'].values)"
   ]
  },
  {
   "cell_type": "markdown",
   "metadata": {},
   "source": [
    "There seem to be slightly fewer flights during the week-end."
   ]
  },
  {
   "cell_type": "code",
   "execution_count": 19,
   "metadata": {},
   "outputs": [
    {
     "data": {
      "text/plain": [
       "<matplotlib.axes._subplots.AxesSubplot at 0x7f9afe4e5cf8>"
      ]
     },
     "execution_count": 19,
     "metadata": {},
     "output_type": "execute_result"
    },
    {
     "data": {
      "image/png": "[encoded data removed]",
      "text/plain": [
       "<Figure size 432x288 with 1 Axes>"
      ]
     },
     "metadata": {},
     "output_type": "display_data"
    }
   ],
   "source": [
    "L=df.groupBy(df.day_of_week,df.month).count().toPandas()\n",
    "sns.barplot(L['day_of_week'].values,L['count'].values,L['month'].values)"
   ]
  },
  {
   "cell_type": "markdown",
   "metadata": {},
   "source": [
    "The month has an influence on the number of flights per day of the week. For example, on Sundays, there are many flights on January, May, July and October. In December, there are many flights on Thursdays and Saturdays."
   ]
  },
  {
   "cell_type": "code",
   "execution_count": 20,
   "metadata": {},
   "outputs": [
    {
     "data": {
      "text/plain": [
       "<matplotlib.axes._subplots.AxesSubplot at 0x7f9afe31aeb8>"
      ]
     },
     "execution_count": 20,
     "metadata": {},
     "output_type": "execute_result"
    },
    {
     "data": {
      "image/png": "[encoded data removed]",
      "text/plain": [
       "<Figure size 432x288 with 1 Axes>"
      ]
     },
     "metadata": {},
     "output_type": "display_data"
    }
   ],
   "source": [
    "L=df.groupBy(df.day_of_week).agg({\"arrival_delay\": \"avg\"}).toPandas()\n",
    "sns.barplot(L['day_of_week'].values,L['avg(arrival_delay)'].values)"
   ]
  },
  {
   "cell_type": "markdown",
   "metadata": {},
   "source": [
    "### Question 3.3\n",
    "\n",
    "<div class=\"alert alert-info\">\n",
    "How many flights in different days of months and in different hours of days?  \n",
    "<br>\n",
    "<br>\n",
    "\n",
    "<strong>NOTE:</strong> Similarly to the previous note, you need to compute both global statistcs and monthly statistics.\n",
    "\n",
    "<br>\n",
    "<br>\n",
    "Plot  bar charts, and interpret your figures.\n",
    "</div>"
   ]
  },
  {
   "cell_type": "code",
   "execution_count": 21,
   "metadata": {},
   "outputs": [
    {
     "data": {
      "text/plain": [
       "<matplotlib.axes._subplots.AxesSubplot at 0x7f9afe2880b8>"
      ]
     },
     "execution_count": 21,
     "metadata": {},
     "output_type": "execute_result"
    },
    {
     "data": {
      "image/png": "[encoded data removed]",
      "text/plain": [
       "<Figure size 432x288 with 1 Axes>"
      ]
     },
     "metadata": {},
     "output_type": "display_data"
    }
   ],
   "source": [
    "L=df.groupBy(df.day_of_month).count().toPandas()\n",
    "sns.barplot(L['day_of_month'].values,L['count'].values)"
   ]
  },
  {
   "cell_type": "markdown",
   "metadata": {},
   "source": [
    "A normal remark is that there are less flights on the 31st of the month, because less days are represented. The month of February has also an influence on the number of flights per day of the month."
   ]
  },
  {
   "cell_type": "code",
   "execution_count": 22,
   "metadata": {},
   "outputs": [
    {
     "data": {
      "text/plain": [
       "<matplotlib.axes._subplots.AxesSubplot at 0x7f9afe133a20>"
      ]
     },
     "execution_count": 22,
     "metadata": {},
     "output_type": "execute_result"
    },
    {
     "data": {
      "image/png": "[encoded data removed]",
      "text/plain": [
       "<Figure size 432x288 with 1 Axes>"
      ]
     },
     "metadata": {},
     "output_type": "display_data"
    }
   ],
   "source": [
    "L=df.groupBy(df.day_of_month,df.month).count().toPandas()\n",
    "sns.barplot(L['day_of_month'].values,L['count'].values,L['month'].values)"
   ]
  },
  {
   "cell_type": "markdown",
   "metadata": {},
   "source": [
    "There is a difference between months in the number of flight per day. It may be related to the day of the week."
   ]
  },
  {
   "cell_type": "markdown",
   "metadata": {},
   "source": [
    "### Question 3.4\n",
    "\n",
    "<div class=\"alert alert-info\">\n",
    "Which are the **top 20** busiest airports? Compute this in terms of the inbound, outbound and total number of flights.\n",
    "</div>"
   ]
  },
  {
   "cell_type": "code",
   "execution_count": 23,
   "metadata": {},
   "outputs": [
    {
     "data": {
      "text/plain": [
       "[Row(dest_airport='ORD', count=283720),\n",
       " Row(dest_airport='DFW', count=260249),\n",
       " Row(dest_airport='ATL', count=221588),\n",
       " Row(dest_airport='LAX', count=152959),\n",
       " Row(dest_airport='STL', count=152800),\n",
       " Row(dest_airport='DEN', count=144099),\n",
       " Row(dest_airport='PHX', count=140979),\n",
       " Row(dest_airport='DTW', count=139435),\n",
       " Row(dest_airport='PIT', count=131962),\n",
       " Row(dest_airport='CLT', count=130321),\n",
       " Row(dest_airport='MSP', count=124758),\n",
       " Row(dest_airport='SFO', count=117245),\n",
       " Row(dest_airport='EWR', count=117223),\n",
       " Row(dest_airport='IAH', count=104409),\n",
       " Row(dest_airport='LGA', count=101498),\n",
       " Row(dest_airport='BOS', count=99331),\n",
       " Row(dest_airport='LAS', count=94948),\n",
       " Row(dest_airport='PHL', count=93312),\n",
       " Row(dest_airport='DCA', count=87670),\n",
       " Row(dest_airport='MCO', count=76600)]"
      ]
     },
     "execution_count": 23,
     "metadata": {},
     "output_type": "execute_result"
    }
   ],
   "source": [
    "top_inbound=df.groupBy(df.dest_airport).count().orderBy('count',ascending=0)\n",
    "\n",
    "busy_airports=top_inbound.select(\"dest_airport\").toPandas().head(20).values\n",
    "busy_list=np.concatenate( busy_airports, axis=0 ).tolist()\n",
    "\n",
    "top_inbound.head(20)"
   ]
  },
  {
   "cell_type": "code",
   "execution_count": 24,
   "metadata": {},
   "outputs": [
    {
     "data": {
      "text/plain": [
       "[Row(src_airport='ORD', count2=277741),\n",
       " Row(src_airport='DFW', count2=256274),\n",
       " Row(src_airport='ATL', count2=221486),\n",
       " Row(src_airport='LAX', count2=153494),\n",
       " Row(src_airport='STL', count2=151609),\n",
       " Row(src_airport='DEN', count2=141427),\n",
       " Row(src_airport='PHX', count2=139581),\n",
       " Row(src_airport='DTW', count2=136837),\n",
       " Row(src_airport='PIT', count2=130977),\n",
       " Row(src_airport='CLT', count2=129391),\n",
       " Row(src_airport='MSP', count2=123222),\n",
       " Row(src_airport='SFO', count2=118233),\n",
       " Row(src_airport='EWR', count2=116768),\n",
       " Row(src_airport='IAH', count2=104182),\n",
       " Row(src_airport='LGA', count2=101864),\n",
       " Row(src_airport='BOS', count2=100365),\n",
       " Row(src_airport='LAS', count2=94972),\n",
       " Row(src_airport='PHL', count2=93585),\n",
       " Row(src_airport='DCA', count2=88445),\n",
       " Row(src_airport='MCO', count2=77120)]"
      ]
     },
     "execution_count": 24,
     "metadata": {},
     "output_type": "execute_result"
    }
   ],
   "source": [
    "top_outbound=df.groupBy(df.src_airport).count().orderBy('count',ascending=0).withColumnRenamed('count', 'count2') \n",
    "top_outbound.head(20)"
   ]
  },
  {
   "cell_type": "code",
   "execution_count": 25,
   "metadata": {},
   "outputs": [
    {
     "data": {
      "text/plain": [
       "[Row(total_traffic=561461, src_airport='ORD'),\n",
       " Row(total_traffic=516523, src_airport='DFW'),\n",
       " Row(total_traffic=443074, src_airport='ATL'),\n",
       " Row(total_traffic=306453, src_airport='LAX'),\n",
       " Row(total_traffic=304409, src_airport='STL'),\n",
       " Row(total_traffic=285526, src_airport='DEN'),\n",
       " Row(total_traffic=280560, src_airport='PHX'),\n",
       " Row(total_traffic=276272, src_airport='DTW'),\n",
       " Row(total_traffic=262939, src_airport='PIT'),\n",
       " Row(total_traffic=259712, src_airport='CLT'),\n",
       " Row(total_traffic=247980, src_airport='MSP'),\n",
       " Row(total_traffic=235478, src_airport='SFO'),\n",
       " Row(total_traffic=233991, src_airport='EWR'),\n",
       " Row(total_traffic=208591, src_airport='IAH'),\n",
       " Row(total_traffic=203362, src_airport='LGA'),\n",
       " Row(total_traffic=199696, src_airport='BOS'),\n",
       " Row(total_traffic=189920, src_airport='LAS'),\n",
       " Row(total_traffic=186897, src_airport='PHL'),\n",
       " Row(total_traffic=176115, src_airport='DCA'),\n",
       " Row(total_traffic=153720, src_airport='MCO')]"
      ]
     },
     "execution_count": 25,
     "metadata": {},
     "output_type": "execute_result"
    }
   ],
   "source": [
    "L3=top_inbound.join(top_outbound, top_inbound.dest_airport == top_outbound.src_airport, 'inner')\n",
    "L3=L3.withColumn('total_traffic', L3['count'] + L3.count2)\n",
    "L3=L3.select('total_traffic','src_airport')\n",
    "L3.orderBy('total_traffic',ascending=0).head(20)"
   ]
  },
  {
   "cell_type": "markdown",
   "metadata": {},
   "source": [
    "### Question 3.5\n",
    "<div class=\"alert alert-info\">\n",
    "Which are the **top 20** busiest carriers? Compute this in terms of number of flights.\n",
    "</div>\n"
   ]
  },
  {
   "cell_type": "code",
   "execution_count": 47,
   "metadata": {},
   "outputs": [
    {
     "name": "stdout",
     "output_type": "stream",
     "text": [
      "  carrier   count\n",
      "0      DL  874526\n",
      "1      US  857906\n",
      "2      AA  722277\n",
      "3      UA  638750\n",
      "4      WN  565426\n",
      "5      CO  484834\n",
      "6      NW  482798\n",
      "7      TW  258205\n",
      "8      HP  177851\n",
      "9      AS  117475\n"
     ]
    }
   ],
   "source": [
    "L1=df.groupBy(df.carrier).count().orderBy('count',ascending=0).toPandas()\n",
    "print(L1.head(20))\n",
    "top_carriers=np.concatenate( L1.values, axis=0 ).tolist()[:4]"
   ]
  },
  {
   "cell_type": "markdown",
   "metadata": {},
   "source": [
    "## Question 4 \n",
    "In this series of questions we focus on the computation of statistics about the percentage of delayed flights.\n",
    "\n",
    "### Question 4.1\n",
    "<div class=\"alert alert-info\">\n",
    "What is the percentage of delayed flights for different hours of the day?  \n",
    "\n",
    "Plot a bar chart and interpret the figure.  \n",
    "\n",
    "\n",
    "<div class=\"label label-success\">IMPORTANT!</div> A flight is considered as delayed if it's actual arrival time is more than 15 minutes later than the scheduled arrival time.\n",
    "\n",
    "</div>"
   ]
  },
  {
   "cell_type": "code",
   "execution_count": 27,
   "metadata": {},
   "outputs": [
    {
     "data": {
      "text/plain": [
       "<matplotlib.axes._subplots.AxesSubplot at 0x7f9afd95f4e0>"
      ]
     },
     "execution_count": 27,
     "metadata": {},
     "output_type": "execute_result"
    },
    {
     "data": {
      "image/png": "[encoded data removed]",
      "text/plain": [
       "<Figure size 432x288 with 1 Axes>"
      ]
     },
     "metadata": {},
     "output_type": "display_data"
    }
   ],
   "source": [
    "delay=df[df.arrival_delay > 15].groupBy(\"Hour\").count().orderBy(\"Hour\").withColumnRenamed(\"count\",\"delayed_flights\")\n",
    "total=df.groupby(\"Hour\").count().orderBy(\"Hour\").withColumnRenamed(\"count\",\"total_flights\")\n",
    "df2=delay.join(total, delay.Hour == total.Hour, 'left').drop(total.Hour)\n",
    "df2=df2.withColumn(\"delay_percentage\",df2.delayed_flights/df2.total_flights)\n",
    "\n",
    "df2=df2.toPandas()\n",
    "sns.barplot(df2.Hour,df2.delay_percentage)"
   ]
  },
  {
   "cell_type": "markdown",
   "metadata": {},
   "source": [
    "There are few flights delayed when they arrive at 3. The maximum delays are met between 17 and 19."
   ]
  },
  {
   "cell_type": "markdown",
   "metadata": {},
   "source": [
    "### Question 4.2\n",
    "<div class=\"alert alert-info\">\n",
    "You will realize that saying \"at 4 A.M. there is a very low chance of a flight being delayed\" is not giving you a full picture of the situation. Indeed, it might be true that there is very little probability for an early flight to be delayed, but if it does, the delay might be huge, like 6 hours!  \n",
    "\n",
    "<ul></ul>\n",
    "\n",
    "Then, the question is: **which hours of the day are characterized by the largest mean delay?** (you can consider the median too)  \n",
    "\n",
    "Plot a Bar chart and explain it.  \n",
    "\n",
    "</div>"
   ]
  },
  {
   "cell_type": "markdown",
   "metadata": {},
   "source": [
    "With data of year 1994, the flight from 3AM to 4AM often depart earlier than in their schedule. The flights in the morning have less delay then in the afternoon and evening.\n",
    "\n",
    "So, an attentive student should notice here that we have somehow a problem with the definition of delay! Next, we will improve how to represent and visualize data to overcome this problem.\n",
    "\n",
    "**NOTE**: the following piece of code assumes you correctly answered the previous questions. The naming convention of the DataFrames we use next should be clear enough for you to produce them by answering the questions above."
   ]
  },
  {
   "cell_type": "code",
   "execution_count": 28,
   "metadata": {},
   "outputs": [
    {
     "data": {
      "image/png": "[encoded data removed]",
      "text/plain": [
       "<Figure size 432x288 with 1 Axes>"
      ]
     },
     "metadata": {},
     "output_type": "display_data"
    }
   ],
   "source": [
    "#pdf2 = pd.DataFrame(data=mean_delay_per_hour.collect())\n",
    "pdf_mean_delay_per_hour=pd.DataFrame(df.groupBy(df.Hour).agg({\"arrival_delay\": \"avg\"}).collect())\n",
    "plt.xlabel(\"Hours\")\n",
    "plt.ylabel(\"Ratio of delay\")\n",
    "plt.title('Ratio of delays over hours in day')\n",
    "plt.grid(True,which=\"both\",ls=\"-\")\n",
    "bars = plt.bar(df2.Hour, df2.delay_percentage, align='center', edgecolor = \"black\")\n",
    "\n",
    "for i in range(0, len(bars)):\n",
    "    color = 'red'\n",
    "    if pdf_mean_delay_per_hour[1][i] < 0:\n",
    "        color = 'lightgreen'\n",
    "    elif pdf_mean_delay_per_hour[1][i] < 2:\n",
    "        color = 'green'\n",
    "    elif pdf_mean_delay_per_hour[1][i] < 4:\n",
    "        color = 'yellow'\n",
    "    elif pdf_mean_delay_per_hour[1][i] < 8:\n",
    "        color = 'orange'\n",
    "\n",
    "    bars[i].set_color(color)\n",
    "        \n",
    "patch1 = mpatches.Patch(color='lightgreen', label='Depart earlier')\n",
    "patch2 = mpatches.Patch(color='green', label='delay < 2 minutes')\n",
    "patch3 = mpatches.Patch(color='yellow', label='delay < 4 minutes')\n",
    "patch4 = mpatches.Patch(color='orange', label='delay < 8 minutes')\n",
    "patch5 = mpatches.Patch(color='red', label='delay >= 8 minutes')\n",
    "\n",
    "plt.legend(handles=[patch1, patch2, patch3, patch4, patch5], bbox_to_anchor=(1.05, 1), loc=2, borderaxespad=0.)\n",
    "plt.margins(0.05, 0)\n",
    "plt.show()"
   ]
  },
  {
   "cell_type": "markdown",
   "metadata": {},
   "source": [
    "Here, we have more information represented on a single plot. The flights in 3AM to 4AM have very low probability of being delayed, and actually depart earlier than their schedule. In contrast, the flights in the 4PM to 8PM range have higher chances of being delayed: on average, the delay is 8 minutes or more."
   ]
  },
  {
   "cell_type": "markdown",
   "metadata": {},
   "source": [
    "### Question 4.3\n",
    "\n",
    "<div class=\"alert alert-info\">\n",
    "Plot a bar chart to show the percentage of delayed flights over days in a month. Discuss your findings from the figure.\n",
    "</div>"
   ]
  },
  {
   "cell_type": "code",
   "execution_count": 29,
   "metadata": {},
   "outputs": [
    {
     "data": {
      "text/plain": [
       "<matplotlib.axes._subplots.AxesSubplot at 0x7f9afd827048>"
      ]
     },
     "execution_count": 29,
     "metadata": {},
     "output_type": "execute_result"
    },
    {
     "data": {
      "image/png": "[encoded data removed]",
      "text/plain": [
       "<Figure size 432x288 with 1 Axes>"
      ]
     },
     "metadata": {},
     "output_type": "display_data"
    }
   ],
   "source": [
    "delay = df[df.arrival_delay>15].groupBy(\"day_of_month\").count().orderBy(\"day_of_month\").withColumnRenamed(\"count\",\"delayed_flights\")\n",
    "total = df.groupby(\"day_of_month\").count().orderBy(\"day_of_month\").withColumnRenamed(\"count\",\"total_flights\")\n",
    "\n",
    "df2 = delay.join(total, delay.day_of_month == total.day_of_month, 'left').drop(total.day_of_month)\n",
    "df2 = df2.withColumn(\"delay_percentage\",df2.delayed_flights/df2.total_flights)\n",
    "df2 = df2.toPandas()\n",
    "sns.barplot(df2.day_of_month,df2.delay_percentage)"
   ]
  },
  {
   "cell_type": "markdown",
   "metadata": {},
   "source": [
    "As surprising as it might be, there is a correlation between the percentage of delayed flights and the day of the month. There is a larger proportion of delayed flights on the 27th of the month and less delayed flights on the 19th of the month."
   ]
  },
  {
   "cell_type": "code",
   "execution_count": 30,
   "metadata": {},
   "outputs": [
    {
     "data": {
      "text/plain": [
       "<matplotlib.axes._subplots.AxesSubplot at 0x7f9afd691e48>"
      ]
     },
     "execution_count": 30,
     "metadata": {},
     "output_type": "execute_result"
    },
    {
     "data": {
      "image/png": "[encoded data removed]",
      "text/plain": [
       "<Figure size 432x288 with 1 Axes>"
      ]
     },
     "metadata": {},
     "output_type": "display_data"
    }
   ],
   "source": [
    "delay_mean=pd.DataFrame(df.groupBy(df.day_of_month).agg({\"arrival_delay\": \"avg\"}).orderBy(\"day_of_month\").collect())\n",
    "sns.barplot(delay_mean[0],delay_mean[1])"
   ]
  },
  {
   "cell_type": "markdown",
   "metadata": {},
   "source": [
    "The mean delay also varies with the day of the month, and we find a slightly different graph. The overall form of the graph is conserved but the mean value of delay enables us to higher the gap between high and low values."
   ]
  },
  {
   "cell_type": "markdown",
   "metadata": {},
   "source": [
    "### Question 4.4\n",
    "\n",
    "<div class=\"alert alert-info\">\n",
    "Plot a bar chart to show the percentage of delayed flights over days in a week. Discuss your findings from the figure.\n",
    "</div>"
   ]
  },
  {
   "cell_type": "code",
   "execution_count": 48,
   "metadata": {},
   "outputs": [
    {
     "data": {
      "text/plain": [
       "<matplotlib.axes._subplots.AxesSubplot at 0x7f9afc9c54e0>"
      ]
     },
     "execution_count": 48,
     "metadata": {},
     "output_type": "execute_result"
    },
    {
     "data": {
      "image/png": "[encoded data removed]",
      "text/plain": [
       "<Figure size 432x288 with 1 Axes>"
      ]
     },
     "metadata": {},
     "output_type": "display_data"
    }
   ],
   "source": [
    "delay=df[df.arrival_delay>15].groupBy(\"day_of_week\").count().orderBy(\"day_of_week\").withColumnRenamed(\"count\",\"delayed_flights\")\n",
    "total=df.groupby(\"day_of_week\").count().orderBy(\"day_of_week\").withColumnRenamed(\"count\",\"total_flights\")\n",
    "df2=delay.join(total, delay.day_of_week == total.day_of_week, 'left').drop(total.day_of_week)\n",
    "df2=df2.withColumn(\"delay_percentage\",df2.delayed_flights/df2.total_flights)\n",
    "df2=df2.toPandas()\n",
    "sns.barplot(df2.day_of_week,df2.delay_percentage)"
   ]
  },
  {
   "cell_type": "markdown",
   "metadata": {},
   "source": [
    "There are more delays on Thursdays and Fridays than the other days. Previously, we studied the number of flights delayed per day. Here, computing the proportion is more relevant."
   ]
  },
  {
   "cell_type": "markdown",
   "metadata": {},
   "source": [
    "### Question 4.5\n",
    "<div class=\"alert alert-info\">\n",
    "Plot a bar chart to show the percentage of delayed flights over months in a year. Discuss your findings from the figure.\n",
    "</div>"
   ]
  },
  {
   "cell_type": "code",
   "execution_count": 32,
   "metadata": {},
   "outputs": [
    {
     "data": {
      "text/plain": [
       "<matplotlib.axes._subplots.AxesSubplot at 0x7f9afd4d5c18>"
      ]
     },
     "execution_count": 32,
     "metadata": {},
     "output_type": "execute_result"
    },
    {
     "data": {
      "image/png": "[encoded data removed]",
      "text/plain": [
       "<Figure size 432x288 with 1 Axes>"
      ]
     },
     "metadata": {},
     "output_type": "display_data"
    }
   ],
   "source": [
    "delay = df[df.arrival_delay>15].groupBy(\"month\").count().orderBy(\"month\").withColumnRenamed(\"count\",\"delayed_flights\")\n",
    "total = df.groupby(\"month\").count().orderBy(\"month\").withColumnRenamed(\"count\",\"total_flights\")\n",
    "df2 = delay.join(total, delay.month == total.month, 'left').drop(total.month)\n",
    "df2 = df2.withColumn(\"delay_percentage\",df2.delayed_flights/df2.total_flights)\n",
    "df2 = df2.toPandas()\n",
    "sns.barplot(df2.month,df2.delay_percentage)"
   ]
  },
  {
   "cell_type": "markdown",
   "metadata": {},
   "source": [
    "There are more delays during the winter and summer than during the spring and fall. January has the more delays and May/September the less delays."
   ]
  },
  {
   "cell_type": "markdown",
   "metadata": {},
   "source": [
    "We are ready now to draw some observations from our data, even if we have only looked at data coming from a year worth of flights:\n",
    "\n",
    "- The probability for a flight to be delayed is low at the beginning or at the very end of a given months\n",
    "- Flights on two first weekdays and on the weekend, are less likely to be delayed\n",
    "- May and September are very good months for travelling, as the probability of delay is low (remember we're working on US data. Do you think this is also true in France?)\n",
    "\n",
    "Putting things together, we can have a global picture of the whole year!"
   ]
  },
  {
   "cell_type": "code",
   "execution_count": 42,
   "metadata": {
    "collapsed": true
   },
   "outputs": [],
   "source": [
    "from pyspark.sql import functions as F\n",
    "\n",
    "df_with_delay = df.withColumn('is_delay', F.when(df[\"arrival_delay\"] >= 15, 1).otherwise(0))\n",
    "statistic_day = df_with_delay.groupBy(['year','month', 'day_of_month', 'day_of_week'])\\\n",
    "    .agg((func.sum('is_delay')/func.count('*')).alias('delay_ratio'))\n",
    "\n",
    "# assume that we do statistic on year 1994\n",
    "statistic_day = statistic_day\\\n",
    "    .orderBy('year', 'month', 'day_of_month', 'day_of_week')\n",
    "pdf = pd.DataFrame(data=statistic_day.collect())"
   ]
  },
  {
   "cell_type": "code",
   "execution_count": 43,
   "metadata": {},
   "outputs": [
    {
     "data": {
      "image/png": "[encoded data removed]",
      "text/plain": [
       "<Figure size 1440x720 with 1 Axes>"
      ]
     },
     "metadata": {},
     "output_type": "display_data"
    }
   ],
   "source": [
    "fig = plt.figure(figsize=(20,10))                                                             \n",
    "ax = fig.add_subplot(1,1,1)     \n",
    "plt.xlabel(\"Weeks/Months in year\")\n",
    "plt.ylabel(\"Day of weeks (1:Monday -> 7 :Sunday)\")\n",
    "plt.title('Figure 10: The change of number flights over days in year')\n",
    "  \n",
    "rec_size = 0.3\n",
    "from matplotlib.patches import Rectangle\n",
    "import datetime\n",
    "num_days = len(pdf[0])\n",
    "ax.patch.set_facecolor('gray')\n",
    "ax.set_aspect('equal', 'box')\n",
    "ax.xaxis.set_major_locator(plt.NullLocator())\n",
    "ax.yaxis.set_major_locator(plt.NullLocator())\n",
    "\n",
    "for i in range(0, num_days):\n",
    "    # extract information from the result\n",
    "    year = pdf[0][i]\n",
    "    month = pdf[1][i]\n",
    "    day_of_month = pdf[2][i]\n",
    "    day_of_week = pdf[3][i]\n",
    "    day_of_year= datetime.date(year=year, month=month, day=day_of_month).timetuple()\n",
    "    week_of_year = datetime.date(year=year, month=month, day=day_of_month).isocalendar()[1]\n",
    "    \n",
    "    # dealing with the week of the previous year\n",
    "    if week_of_year == 52 and month == 1:\n",
    "        week_of_year = 0\n",
    "        \n",
    "    # the coordinate of a day in graph\n",
    "    X = week_of_year*rec_size\n",
    "    Y = day_of_week*rec_size\n",
    "    \n",
    "    # use different colors to show the delay ratio\n",
    "    color = 'white'\n",
    "    if pdf[4][i] <= 0.084:\n",
    "        color = 'lightyellow'\n",
    "    elif pdf[4][i] <= 0.117:\n",
    "        color = 'lightgreen'\n",
    "    elif pdf[4][i] <= 0.152:\n",
    "        color = 'gold'\n",
    "    elif pdf[4][i] <= 0.201:\n",
    "        color = 'orange'\n",
    "    else:\n",
    "        color = 'red'\n",
    "    rect = plt.Rectangle((X - rec_size/2.0, Y - rec_size/2.0), rec_size, rec_size,\n",
    "                      alpha=1, facecolor=color, edgecolor='whitesmoke')\n",
    "\n",
    "    ax.add_patch(rect)\n",
    "    \n",
    "    # drawing boders to separate months\n",
    "    if day_of_month <= 7:\n",
    "        rect2 = plt.Rectangle((X -rec_size/2.0, Y - rec_size/2.0), 0.01, rec_size,\n",
    "                      alpha=1, facecolor='black')\n",
    "        ax.add_patch(rect2)\n",
    "    if day_of_month == 1:\n",
    "        rect2 = plt.Rectangle((X - rec_size/2.0, Y - rec_size/2.0), rec_size, 0.01,\n",
    "                      alpha=1, facecolor='black')\n",
    "        ax.add_patch(rect2)\n",
    "ax.autoscale_view()\n",
    "\n",
    "patch1 = mpatches.Patch(color='lightyellow', label='delay ratio < 8.4%')\n",
    "patch2 = mpatches.Patch(color='lightgreen', label='delay ratio < 11.7%')\n",
    "patch3 = mpatches.Patch(color='gold', label='delay ratio < 15.2%')\n",
    "patch4 = mpatches.Patch(color='orange', label='delay ratio < 20.1%')\n",
    "patch5 = mpatches.Patch(color='red', label='delay ratio >= 20.1%')\n",
    "\n",
    "plt.legend(handles=[patch1, patch2, patch3, patch4, patch5], bbox_to_anchor=(1.05, 1), loc=2, borderaxespad=0.)\n",
    "\n",
    "plt.show()"
   ]
  },
  {
   "cell_type": "markdown",
   "metadata": {},
   "source": [
    "### Question 4.6\n",
    "<div class=\"alert alert-info\">\n",
    "\n",
    "What is the delay probability for the top 20 busiest airports?  \n",
    "\n",
    "\n",
    "By drawing the flight volume of each airport and the associated delay probability in a single plot, we can observe the relationship between airports, number of flights and the delay.  \n",
    "\n",
    "<div class=\"label label-success\">HINT </div>  Function `<df_colum>.isin(<list>)` helps checking whether a value in column belongs to a list.\n",
    "<ul></ul>\n",
    "<div class=\"label label-success\">SUGGESTION </div>  You can try with different chart type to have a better visualization.\n",
    "</div>"
   ]
  },
  {
   "cell_type": "code",
   "execution_count": 49,
   "metadata": {},
   "outputs": [
    {
     "data": {
      "text/plain": [
       "[Row(src_airport='DCA', delay_ratio=0.1599864322460286, total traffic=88445),\n",
       " Row(src_airport='IAH', delay_ratio=0.1660171622737133, total traffic=104182),\n",
       " Row(src_airport='LGA', delay_ratio=0.19028312259483232, total traffic=101864),\n",
       " Row(src_airport='BOS', delay_ratio=0.20337767149902855, total traffic=100365),\n",
       " Row(src_airport='EWR', delay_ratio=0.26439606741573035, total traffic=116768),\n",
       " Row(src_airport='LAS', delay_ratio=0.17218759213241797, total traffic=94972),\n",
       " Row(src_airport='DEN', delay_ratio=0.20354670607451195, total traffic=141427),\n",
       " Row(src_airport='CLT', delay_ratio=0.22251161209048542, total traffic=129391),\n",
       " Row(src_airport='PHX', delay_ratio=0.17194317278139576, total traffic=139581),\n",
       " Row(src_airport='STL', delay_ratio=0.18877507271995725, total traffic=151609),\n",
       " Row(src_airport='DFW', delay_ratio=0.22524719636014578, total traffic=256274),\n",
       " Row(src_airport='SFO', delay_ratio=0.16634949633351095, total traffic=118233),\n",
       " Row(src_airport='ATL', delay_ratio=0.21205403501801467, total traffic=221486),\n",
       " Row(src_airport='ORD', delay_ratio=0.16788302771286917, total traffic=277741),\n",
       " Row(src_airport='PIT', delay_ratio=0.21883994899867915, total traffic=130977),\n",
       " Row(src_airport='DTW', delay_ratio=0.17069213736050923, total traffic=136837),\n",
       " Row(src_airport='LAX', delay_ratio=0.16996104082244257, total traffic=153494),\n",
       " Row(src_airport='MSP', delay_ratio=0.15585690866890653, total traffic=123222),\n",
       " Row(src_airport='MCO', delay_ratio=0.167725622406639, total traffic=77120),\n",
       " Row(src_airport='PHL', delay_ratio=0.21505583159694394, total traffic=93585)]"
      ]
     },
     "execution_count": 49,
     "metadata": {},
     "output_type": "execute_result"
    }
   ],
   "source": [
    "delay = df.withColumn('is_delay', F.when(df[\"arrival_delay\"] >= 15, 1).otherwise(0))\n",
    "delay=delay[delay.src_airport.isin(busy_list)]\n",
    "statistic_airport = delay.groupBy(\"src_airport\")\\\n",
    "    .agg((func.sum('is_delay')/func.count('*')).alias('delay_ratio'),(func.count('*').alias(\"total traffic\")))\n",
    "statistic_airport.head(20)"
   ]
  },
  {
   "cell_type": "code",
   "execution_count": 50,
   "metadata": {},
   "outputs": [
    {
     "data": {
      "image/png": "[encoded data removed]",
      "text/plain": [
       "<Figure size 1440x720 with 1 Axes>"
      ]
     },
     "metadata": {},
     "output_type": "display_data"
    }
   ],
   "source": [
    "stat_airport=pd.DataFrame(statistic_airport.collect())\n",
    "plt.figure(figsize=(20, 10))\n",
    "plt.xlabel(\"Airport\")\n",
    "plt.ylabel(\"Traffic\")\n",
    "plt.title('Figure 6: Traffic per airport for the year 1994')\n",
    "plt.grid(True,which=\"both\",ls=\"-\")\n",
    "bars = plt.bar(stat_airport[0], stat_airport[2], align='center', edgecolor = \"black\")\n",
    "\n",
    "for i in range(0, len(bars)):\n",
    "    color = 'red'\n",
    "    if stat_airport[1][i] < 0.14:\n",
    "        color = 'lightgreen'\n",
    "    elif stat_airport[1][i] < 0.18:\n",
    "        color = 'green'\n",
    "    elif stat_airport[1][i] < 0.211:\n",
    "        color = 'yellow'\n",
    "    elif stat_airport[1][i] < 0.25:\n",
    "        color = 'orange'\n",
    "\n",
    "    bars[i].set_color(color)\n",
    "        \n",
    "patch1 = mpatches.Patch(color='lightyellow', label='delay ratio < 14%')\n",
    "patch2 = mpatches.Patch(color='lightgreen', label='delay ratio < 18%')\n",
    "patch3 = mpatches.Patch(color='gold', label='delay ratio < 21%')\n",
    "patch4 = mpatches.Patch(color='orange', label='delay ratio < 25%')\n",
    "patch5 = mpatches.Patch(color='red', label='delay ratio >= 25%')\n",
    "\n",
    "plt.legend(handles=[patch1, patch2, patch3, patch4, patch5], bbox_to_anchor=(1.05, 1), loc=2, borderaxespad=0.)\n",
    "plt.margins(0.05, 0)\n",
    "plt.show()"
   ]
  },
  {
   "cell_type": "markdown",
   "metadata": {},
   "source": [
    "### Question 4.7\n",
    "\n",
    "<div class=\"alert alert-info\">\n",
    "What is the percentage of delayed flights which belong to one of the top 20 busiest carriers?  \n",
    "Comment the figure!\n",
    "\n",
    "<ul></ul>\n",
    "<div class=\"label label-success\">SUGGESTION </div>  You can try with different chart type to have a better visualization.\n",
    "</div>"
   ]
  },
  {
   "cell_type": "code",
   "execution_count": 10,
   "metadata": {},
   "outputs": [
    {
     "ename": "NameError",
     "evalue": "name 'top_carriers' is not defined",
     "output_type": "error",
     "traceback": [
      "\u001b[0;31m---------------------------------------------------------------------------\u001b[0m",
      "\u001b[0;31mNameError\u001b[0m                                 Traceback (most recent call last)",
      "\u001b[0;32m<ipython-input-10-dd12e5aa2d6a>\u001b[0m in \u001b[0;36m<module>\u001b[0;34m()\u001b[0m\n\u001b[1;32m      1\u001b[0m \u001b[0mtotal_flights\u001b[0m\u001b[0;34m=\u001b[0m\u001b[0mdf\u001b[0m\u001b[0;34m.\u001b[0m\u001b[0mcount\u001b[0m\u001b[0;34m(\u001b[0m\u001b[0;34m)\u001b[0m\u001b[0;34m\u001b[0m\u001b[0m\n\u001b[0;32m----> 2\u001b[0;31m \u001b[0mfrc_flights_top\u001b[0m\u001b[0;34m=\u001b[0m\u001b[0mdf\u001b[0m\u001b[0;34m[\u001b[0m\u001b[0mdf\u001b[0m\u001b[0;34m.\u001b[0m\u001b[0mcarrier\u001b[0m\u001b[0;34m.\u001b[0m\u001b[0misin\u001b[0m\u001b[0;34m(\u001b[0m\u001b[0mtop_carriers\u001b[0m\u001b[0;34m)\u001b[0m\u001b[0;34m]\u001b[0m\u001b[0;34m.\u001b[0m\u001b[0mcount\u001b[0m\u001b[0;34m(\u001b[0m\u001b[0;34m)\u001b[0m\u001b[0;34m/\u001b[0m\u001b[0mtotal_flights\u001b[0m\u001b[0;34m\u001b[0m\u001b[0m\n\u001b[0m\u001b[1;32m      3\u001b[0m \u001b[0;34m\u001b[0m\u001b[0m\n\u001b[1;32m      4\u001b[0m \u001b[0mdf\u001b[0m \u001b[0;34m=\u001b[0m \u001b[0mdf\u001b[0m\u001b[0;34m.\u001b[0m\u001b[0mwithColumn\u001b[0m\u001b[0;34m(\u001b[0m\u001b[0;34m'is_delay'\u001b[0m\u001b[0;34m,\u001b[0m \u001b[0mF\u001b[0m\u001b[0;34m.\u001b[0m\u001b[0mwhen\u001b[0m\u001b[0;34m(\u001b[0m\u001b[0mdf\u001b[0m\u001b[0;34m[\u001b[0m\u001b[0;34m\"arrival_delay\"\u001b[0m\u001b[0;34m]\u001b[0m \u001b[0;34m>=\u001b[0m \u001b[0;36m15\u001b[0m\u001b[0;34m,\u001b[0m \u001b[0;36m1\u001b[0m\u001b[0;34m)\u001b[0m\u001b[0;34m.\u001b[0m\u001b[0motherwise\u001b[0m\u001b[0;34m(\u001b[0m\u001b[0;36m0\u001b[0m\u001b[0;34m)\u001b[0m\u001b[0;34m)\u001b[0m\u001b[0;34m\u001b[0m\u001b[0m\n\u001b[1;32m      5\u001b[0m \u001b[0mtotal_delays\u001b[0m\u001b[0;34m=\u001b[0m\u001b[0mdf\u001b[0m\u001b[0;34m[\u001b[0m\u001b[0mdf\u001b[0m\u001b[0;34m.\u001b[0m\u001b[0mis_delay\u001b[0m\u001b[0;34m==\u001b[0m\u001b[0;36m1\u001b[0m\u001b[0;34m]\u001b[0m\u001b[0;34m.\u001b[0m\u001b[0mcount\u001b[0m\u001b[0;34m(\u001b[0m\u001b[0;34m)\u001b[0m\u001b[0;34m\u001b[0m\u001b[0m\n",
      "\u001b[0;31mNameError\u001b[0m: name 'top_carriers' is not defined"
     ]
    }
   ],
   "source": [
    "total_flights=df.count()\n",
    "frc_flights_top=df[df.carrier.isin(top_carriers)].count()/total_flights\n",
    "\n",
    "df = df.withColumn('is_delay', F.when(df[\"arrival_delay\"] >= 15, 1).otherwise(0))\n",
    "total_delays=df[df.is_delay==1].count()\n",
    "\n",
    "\n",
    "delay=df[df.arrival_delay>15]\n",
    "delay_top=delay[delay.carrier.isin(top_carriers)].count()\n",
    "\n",
    "\n",
    "frc_delay_top=delay_top/total_delays"
   ]
  },
  {
   "cell_type": "code",
   "execution_count": 52,
   "metadata": {},
   "outputs": [
    {
     "data": {
      "image/png": "[encoded data removed]",
      "text/plain": [
       "<Figure size 432x288 with 1 Axes>"
      ]
     },
     "metadata": {},
     "output_type": "display_data"
    }
   ],
   "source": [
    "import matplotlib.pyplot as plt\n",
    "\n",
    "# Data to plot\n",
    "labels = ['Top carriers', 'Rest' ]\n",
    "sizes = [frc_flights_top, 1-frc_flights_top]\n",
    "colors = ['orange', 'green']\n",
    "explode = (0.1, 0)  # explode 1st slice\n",
    "\n",
    "# Plot\n",
    "plt.pie(sizes, explode=explode, labels=labels, colors=colors,\n",
    "autopct='%1.1f%%', shadow=True, startangle=140)\n",
    "plt.title(\"Total air traffic \")\n",
    "plt.axis('equal')\n",
    "plt.show()"
   ]
  },
  {
   "cell_type": "code",
   "execution_count": 53,
   "metadata": {},
   "outputs": [
    {
     "data": {
      "image/png": "[encoded data removed]",
      "text/plain": [
       "<Figure size 432x288 with 1 Axes>"
      ]
     },
     "metadata": {},
     "output_type": "display_data"
    }
   ],
   "source": [
    "import matplotlib.pyplot as plt\n",
    "\n",
    "# Data to plot\n",
    "labels = ['Top carriers', 'Rest' ]\n",
    "sizes = [frc_delay_top, 1-frc_delay_top]\n",
    "colors = ['orange', 'green']\n",
    "explode = (0.1, 0)  # explode 1st slice\n",
    "\n",
    "# Plot\n",
    "plt.pie(sizes, explode=explode, labels=labels, colors=colors,\n",
    "autopct='%1.1f%%', shadow=True, startangle=140)\n",
    "plt.title(\"Proportions of total air traffic delay\")\n",
    "plt.axis('equal')\n",
    "plt.show()"
   ]
  },
  {
   "cell_type": "markdown",
   "metadata": {},
   "source": [
    "One major memark we can do here is that the delay is proportional to the air traffic volume. It's not because we study a top-carrier that we have less delay. The proportions are the same in both graphs."
   ]
  },
  {
   "cell_type": "markdown",
   "metadata": {},
   "source": [
    "## Addition (bonus) questions\n",
    "\n",
    "### Additional data\n",
    "In the HDFS file system you have used for running the Notebook, you will notice that there are several other years available (in addition to 1994).\n",
    "\n",
    "There are some other datasets that related to this use case:\n",
    "\n",
    "- Airport IATA Codes to City names and Coordinates mapping: http://stat-computing.org/dataexpo/2009/airports.csv\n",
    "- Carrier codes to Full name mapping: http://stat-computing.org/dataexpo/2009/carriers.csv\n",
    "- Information about individual planes: http://stat-computing.org/dataexpo/2009/plane-data.csv\n",
    "- Weather information: http://www.wunderground.com/weather/api/. You can subscribe for free to the developers' API and obtain (at a limited rate) historical weather information in many different formats. Also, to get an idea of the kind of information is available, you can use this link: http://www.wunderground.com/history/\n",
    "\n",
    "### Question 5.1\n",
    "\n",
    "<div class=\"alert alert-info\">\n",
    "\n",
    "Which airports are present in the dataset only as destination airport?\n",
    "\n",
    "Which airport is present only as source airport in the dataset? \n",
    "\n",
    "</div>\n",
    "\n",
    "### Question 5.2\n",
    "\n",
    "<div class=\"alert alert-info\">\n",
    "\n",
    "Which airports have biggest delay probability ?\n",
    "\n",
    "Which cities have largest delay duration in average ?\n",
    "\n",
    "</div>\n",
    "\n",
    "### Question 5.3\n",
    "\n",
    "<div class=\"alert alert-info\">\n",
    "\n",
    "Is there any relationship between weather condition and the delay of flights in 1994 ?\n",
    "\n",
    "</div>\n"
   ]
  },
  {
   "cell_type": "code",
   "execution_count": 1,
   "metadata": {},
   "outputs": [
    {
     "ename": "NameError",
     "evalue": "name 'df' is not defined",
     "output_type": "error",
     "traceback": [
      "\u001b[0;31m---------------------------------------------------------------------------\u001b[0m",
      "\u001b[0;31mNameError\u001b[0m                                 Traceback (most recent call last)",
      "\u001b[0;32m<ipython-input-1-2d1c0af6fc2e>\u001b[0m in \u001b[0;36m<module>\u001b[0;34m()\u001b[0m\n\u001b[1;32m      1\u001b[0m \u001b[0;31m### Question 5.1:\u001b[0m\u001b[0;34m\u001b[0m\u001b[0;34m\u001b[0m\u001b[0m\n\u001b[1;32m      2\u001b[0m \u001b[0;34m\u001b[0m\u001b[0m\n\u001b[0;32m----> 3\u001b[0;31m \u001b[0mis_src\u001b[0m\u001b[0;34m=\u001b[0m\u001b[0mdf\u001b[0m\u001b[0;34m.\u001b[0m\u001b[0mselect\u001b[0m\u001b[0;34m(\u001b[0m\u001b[0;34m\"src_airport\"\u001b[0m\u001b[0;34m)\u001b[0m\u001b[0;34m.\u001b[0m\u001b[0mdistinct\u001b[0m\u001b[0;34m(\u001b[0m\u001b[0;34m)\u001b[0m\u001b[0;34m.\u001b[0m\u001b[0mtoPandas\u001b[0m\u001b[0;34m(\u001b[0m\u001b[0;34m)\u001b[0m\u001b[0;34m.\u001b[0m\u001b[0mvalues\u001b[0m\u001b[0;34m\u001b[0m\u001b[0m\n\u001b[0m\u001b[1;32m      4\u001b[0m \u001b[0mis_src\u001b[0m\u001b[0;34m=\u001b[0m\u001b[0mnp\u001b[0m\u001b[0;34m.\u001b[0m\u001b[0mconcatenate\u001b[0m\u001b[0;34m(\u001b[0m\u001b[0mis_src\u001b[0m\u001b[0;34m,\u001b[0m\u001b[0maxis\u001b[0m\u001b[0;34m=\u001b[0m\u001b[0;36m0\u001b[0m\u001b[0;34m)\u001b[0m\u001b[0;34m.\u001b[0m\u001b[0mtolist\u001b[0m\u001b[0;34m(\u001b[0m\u001b[0;34m)\u001b[0m\u001b[0;34m\u001b[0m\u001b[0m\n\u001b[1;32m      5\u001b[0m \u001b[0monly_dest\u001b[0m\u001b[0;34m=\u001b[0m\u001b[0mdf\u001b[0m\u001b[0;34m.\u001b[0m\u001b[0mfilter\u001b[0m\u001b[0;34m(\u001b[0m\u001b[0mdf\u001b[0m\u001b[0;34m[\u001b[0m\u001b[0;34m\"dest_airport\"\u001b[0m\u001b[0;34m]\u001b[0m\u001b[0;34m.\u001b[0m\u001b[0misin\u001b[0m\u001b[0;34m(\u001b[0m\u001b[0mis_src\u001b[0m\u001b[0;34m)\u001b[0m \u001b[0;34m==\u001b[0m \u001b[0;32mFalse\u001b[0m\u001b[0;34m)\u001b[0m\u001b[0;34m.\u001b[0m\u001b[0mselect\u001b[0m\u001b[0;34m(\u001b[0m\u001b[0;34m\"dest_airport\"\u001b[0m\u001b[0;34m)\u001b[0m\u001b[0;34m.\u001b[0m\u001b[0mdistinct\u001b[0m\u001b[0;34m(\u001b[0m\u001b[0;34m)\u001b[0m\u001b[0;34m\u001b[0m\u001b[0m\n",
      "\u001b[0;31mNameError\u001b[0m: name 'df' is not defined"
     ]
    }
   ],
   "source": [
    "### Question 5.1:\n",
    "\n",
    "is_src=df.select(\"src_airport\").distinct().toPandas().values\n",
    "is_src=np.concatenate(is_src,axis=0).tolist()\n",
    "only_dest=df.filter(df[\"dest_airport\"].isin(is_src) == False).select(\"dest_airport\").distinct()\n",
    "only_dest.show()"
   ]
  },
  {
   "cell_type": "code",
   "execution_count": 55,
   "metadata": {},
   "outputs": [],
   "source": [
    "is_des=df.select(\"dest_airport\").distinct().toPandas().values\n",
    "is_des=np.concatenate(is_des,axis=0).tolist()\n",
    "only_src=df.filter(df[\"src_airport\"].isin(is_des) == False).select(\"src_airport\").distinct()\n",
    "only_src.show()"
   ]
  },
  {
   "cell_type": "code",
   "execution_count": null,
   "metadata": {},
   "outputs": [],
   "source": [
    "### Question 5.2:\n",
    "\n",
    "delay=df[df.arrival_delay>15].groupBy(\"src_airport\").count().withColumnRenamed(\"count\",\"delayed_flights\")\n",
    "total=df.groupby(\"src_airport\").count().withColumnRenamed(\"count\",\"total_flights\")\n",
    "df2=delay.join(total, delay.src_airport == total.src_airport, 'left').drop(total.src_airport)\n",
    "df2=df2.withColumn(\"delay_percentage\",df2.delayed_flights/df2.total_flights).orderBy(\"delay_percentage\",ascending=0)\n",
    "\n",
    "df2=df2.toPandas()\n",
    "\n",
    "fig=sns.barplot(df2.src_airport,df2.delay_percentage)\n",
    "plt.title(\"Distribution of delay by airport\") # You can comment this line out if you don't need title\n",
    "plt.show(fig)\n",
    "\n",
    "print(\"top airports by delay probability\",df2[[\"src_airport\",\"delay_percentage\"]].head(10))"
   ]
  },
  {
   "cell_type": "code",
   "execution_count": null,
   "metadata": {},
   "outputs": [],
   "source": [
    "### Question 5.2:\n",
    "\n",
    "delay=df[df.arrival_delay>15].groupBy(\"src_airport\").agg((func.sum('arrival_delay')/func.count('*')).alias(\"average_delay_duration\")).orderBy(\"average_delay_duration\",ascending=0)\n",
    "\n",
    "print('top 10 airports by average delay',delay.show(10))"
   ]
  }
 ],
 "metadata": {
  "kernelspec": {
   "display_name": "Python 3",
   "language": "python",
   "name": "python3"
  },
  "language_info": {
   "codemirror_mode": {
    "name": "ipython",
    "version": 3
   },
   "file_extension": ".py",
   "mimetype": "text/x-python",
   "name": "python",
   "nbconvert_exporter": "python",
   "pygments_lexer": "ipython3",
   "version": "3.7.6"
  }
 },
 "nbformat": 4,
 "nbformat_minor": 2
}
